{
    "cells": [
        {
            "cell_type": "markdown",
            "metadata": {
                "collapsed": true
            },
            "source": "# CAPSTONE PROJECT - THE BATTLE OF NEIGHBORHOODS"
        },
        {
            "cell_type": "markdown",
            "metadata": {},
            "source": "# CAR ACCIDENT SEVERITY"
        },
        {
            "cell_type": "markdown",
            "metadata": {},
            "source": "# INTRODUCTION"
        },
        {
            "cell_type": "markdown",
            "metadata": {},
            "source": "There is a huge impact on society due to traffic accidents where there is a great cost of fatalities and injuries. In recent years, there is an increase in the researchers attention to determine the significant effect on the severity of the injuries to the drivers which is caused due to the road accidents. Accurate and comprehensive accident records are the basis of accident analysis. The effective use of accident records depends on some factors, like the accuracy of the data, record retention, and data analysis. There are many approaches applied to this scenario to study this problem."
        },
        {
            "cell_type": "markdown",
            "metadata": {},
            "source": "A recent study illustrated that the residential and shopping areas are more hazardous than rural areas. As predicted, the frequencies of the casualties were higher near the residential zones possibly because of the higher exposure. A study revealed that the casualty rates among the residential areas are classified as relatively deprived and significantly higher than those from relatively affluent areas.\n"
        },
        {
            "cell_type": "markdown",
            "metadata": {},
            "source": "Accidents have become very common these days. Nearly 1.25 million people die in road accidents every year. On an average, there are 3,287 deaths in a day. Moreover, 20 - 50 million people are injured or disabled annually. Road traffic accidents rank as the 9th leading cause of death and accounts for 2.2% of total deaths globally. In this contest of better severity of the accidents, machine learning and neural techniques have been used in analysis. These techniques are helpful to reduce accidents.\n"
        },
        {
            "cell_type": "markdown",
            "metadata": {},
            "source": "Car accidents are one of the common types of collision occurring globally everyday by analysing the different factors which cause the collision. In this section, let's discuss the data capstone project on Car accident severity.\n"
        },
        {
            "cell_type": "markdown",
            "metadata": {},
            "source": "# BUSINESS UNDERSTANDING\n"
        },
        {
            "cell_type": "markdown",
            "metadata": {},
            "source": "Car collisions or car accidents are one of the types of road accidents. According to Corrigan [1], despite collecting large quantities of traffic data, Transportation Departments of all levels are unable to use such data to good effect. A start-up called ODN was found in 2015 which could predict when and where accidents are most likely to happen. Officials could use such information  to direct safety efforts at the stretches of road where the impacts could be the biggest. In the context of this research, few of the developed countries like US, UK governments could use the information generated from a prediction system with a Neural Network predicting the accident severity and use this information to enhance the laws to build safer roads for the future. In this project, we are dealing with all the possible ways to reach the destination by overcoming car accident severity with the different critical traffic conditions on the journey. By prediction, car accident severity improves the traffic safety measures. And implements the traffic rules accordingly by governments to improve accident severity.\n"
        },
        {
            "cell_type": "markdown",
            "metadata": {},
            "source": "# OBJECTIVES - Solution to the problem\n"
        },
        {
            "cell_type": "markdown",
            "metadata": {},
            "source": "The objectives of this capstone project are mainly the following:\n1. Gather a comprehensive database of road accident statistics for built up roads with factors that affect road safety which have been provided by the database.\n2. Analyse data for the factors, which can impact accident rates (e.g., light conditions, weather, road surface conditions, types of junctions, etc.)\n3. Determine the type of road classes with highest and lowest amount of accident rates from analysing tables of road accident statistics and charts created from the database UK-2019 accident set.\n4. Suggest appropriate measures for the factors and the road class determined the most dangerous for improving car accident severity."
        },
        {
            "cell_type": "code",
            "execution_count": null,
            "metadata": {},
            "outputs": [],
            "source": ""
        }
    ],
    "metadata": {
        "kernelspec": {
            "display_name": "Python 3.7",
            "language": "python",
            "name": "python3"
        },
        "language_info": {
            "codemirror_mode": {
                "name": "ipython",
                "version": 3
            },
            "file_extension": ".py",
            "mimetype": "text/x-python",
            "name": "python",
            "nbconvert_exporter": "python",
            "pygments_lexer": "ipython3",
            "version": "3.7.10"
        }
    },
    "nbformat": 4,
    "nbformat_minor": 1
}